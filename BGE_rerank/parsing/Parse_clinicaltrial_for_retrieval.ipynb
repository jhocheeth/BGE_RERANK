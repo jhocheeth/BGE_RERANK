{
 "cells": [
  {
   "cell_type": "markdown",
   "id": "96702d6c-f0bc-43bf-affd-76594e0e07df",
   "metadata": {},
   "source": [
    "Load CT Title + BF + detailed desc + Keywords "
   ]
  },
  {
   "cell_type": "code",
   "execution_count": null,
   "id": "62d7b974-7e94-49bb-9c30-9b9532f47c42",
   "metadata": {
    "scrolled": true
   },
   "outputs": [],
   "source": [
    "import json\n",
    "import os\n",
    "\n",
    "# Load the content from the provided file\n",
    "input_path = '/home/jh537/Clinical_Trial_Embending/Clinical_Trial_data/Retrievial/v2_/ctg-studies (5).json'\n",
    "output_path = '/home/jh537/Clinical_Trial_Embending/Clinical_Trial_data/Retrievial/v2_/LONG_CTG_id_text.json'\n",
    "\n",
    "def create_output_data(input_path):\n",
    "    with open(input_path, 'r') as file:\n",
    "        data = json.load(file)\n",
    "\n",
    "    # Extracting necessary information and creating new JSON structure\n",
    "    result = []\n",
    "    for study in data:\n",
    "        protocol_section = study.get('protocolSection', {})\n",
    "        identification_module = protocol_section.get('identificationModule', {})\n",
    "        description_module = protocol_section.get('descriptionModule', {})\n",
    "        conditions_module = protocol_section.get('conditionsModule', {})\n",
    "\n",
    "        # Extract titles and summaries\n",
    "        official_title = identification_module.get('officialTitle', '')\n",
    "        brief_title = identification_module.get('briefTitle', '')\n",
    "        brief_summary = description_module.get('briefSummary', '')\n",
    "        detailed_description = description_module.get('detailedDescription', '')\n",
    "\n",
    "        # Use official title if available, otherwise use brief title\n",
    "        title = official_title if official_title else brief_title\n",
    "\n",
    "        # Construct the complete summary\n",
    "        summary_parts = [title, brief_summary, detailed_description]\n",
    "        summary = '. '.join(part for part in summary_parts if part)\n",
    "\n",
    "        # Add keywords as separate sentences\n",
    "        keywords = conditions_module.get('keywords', [])\n",
    "        keywords_sentences = '. '.join(keywords)\n",
    "        if keywords_sentences:\n",
    "            summary = f\"{summary}. {keywords_sentences}\"\n",
    "\n",
    "        # Clean the text: remove newline characters and asterisks\n",
    "        summary = summary.replace('\\n', '').replace('\\r', '').replace('*', '')\n",
    "\n",
    "        # Extract nctId\n",
    "        nct_id = identification_module.get('nctId', '')\n",
    "\n",
    "        # Creating a dictionary with the required fields\n",
    "        result.append({\n",
    "            'summary': summary,\n",
    "            'ntcId': nct_id,\n",
    "        })\n",
    "\n",
    "    return result\n",
    "\n",
    "if __name__ == \"__main__\":\n",
    "    # Create output directory if it doesn't exist\n",
    "    os.makedirs(os.path.dirname(output_path), exist_ok=True)\n",
    "\n",
    "    output_data = create_output_data(input_path)\n",
    "\n",
    "    # Save the result to a new JSON file\n",
    "    with open(output_path, 'w') as output_file:\n",
    "        json.dump(output_data, output_file, indent=4)\n",
    "\n",
    "    print(\"JSON file created successfully.\")\n",
    "\n",
    "    # Print the first 5 entries (head)\n",
    "    print(output_data[:5])\n"
   ]
  },
  {
   "cell_type": "markdown",
   "id": "aef73ea4-058f-4183-a292-e603486ba4af",
   "metadata": {},
   "source": [
    "Create CT id List "
   ]
  },
  {
   "cell_type": "code",
   "execution_count": null,
   "id": "996f869c-0b06-4ee2-b640-cd435a4a7a25",
   "metadata": {},
   "outputs": [],
   "source": [
    "import pandas as pd\n",
    "import json\n",
    "\n",
    "file_path = \"/home/jh537/Clinical_Trial_Embending/Clinical_Trial_data/Retrievial/v2_/paired_CT_PM.csv\"\n",
    "df = pd.read_csv(file_path)\n",
    "\n",
    "# Extract the PMid column and convert it to a list\n",
    "pmid_list = df['nCTid'].astype(str).tolist()\n",
    "\n",
    "# Delete the last 90 elements from the list\n",
    "if len(pmid_list) > 90:\n",
    "    pmid_list = pmid_list[:-90]\n",
    "else:\n",
    "    pmid_list = []\n",
    "\n",
    "# Convert the list to a JSON formatted string\n",
    "pmid_json = json.dumps(pmid_list)\n",
    "\n",
    "# Save the JSON list to a file if needed\n",
    "output_json_path = '/home/jh537/Clinical_Trial_Embending/Clinical_Trial_data/Retrievial/v2_/CTG_id_list.json'\n",
    "with open(output_json_path, 'w') as json_file:\n",
    "    json.dump(pmid_list, json_file)\n",
    "\n",
    "# Save the modified DataFrame back to a CSV file\n",
    "df.to_csv(file_path, index=False)\n",
    "print(df.head(1))\n"
   ]
  },
  {
   "cell_type": "markdown",
   "id": "961f206e-f643-4b66-8bf9-e4666e775a84",
   "metadata": {},
   "source": [
    "Keep only the trials in the list "
   ]
  },
  {
   "cell_type": "code",
   "execution_count": null,
   "id": "c57c9e95-7a89-4082-af1b-d4dfc3920105",
   "metadata": {},
   "outputs": [],
   "source": [
    "import json\n",
    "# File paths\n",
    "ctg_id_text_path = '/home/jh537/Clinical_Trial_Embending/Clinical_Trial_data/Retrievial/v2_/LONG_CTG_id_text.json'\n",
    "ctid_list_path = '/home/jh537/Clinical_Trial_Embending/Clinical_Trial_data/Retrievial/v2_/CTG_id_list.json'\n",
    "\n",
    "# Load the list of IDs and convert it to a set for faster lookup\n",
    "with open(ctid_list_path, 'r') as json_file:\n",
    "    ctid_set = set(json.load(json_file))\n",
    "\n",
    "# Load the ctg_id_text JSON file\n",
    "with open(ctg_id_text_path, 'r') as json_file:\n",
    "    ctg_data = json.load(json_file)\n",
    "\n",
    "# Remove entries whose 'ntcId' is not in the set\n",
    "filtered_data = [entry for entry in ctg_data if entry.get('ntcId') in ctid_set]\n",
    "\n",
    "\n",
    "# Save the filtered JSON back to a file\n",
    "output_filtered_path = '/home/jh537/Clinical_Trial_Embending/Clinical_Trial_data/Retrievial/v2_/LONG_CTG_id_text.json'\n",
    "with open(output_filtered_path, 'w') as json_file:\n",
    "    json.dump(filtered_data, json_file)\n",
    "\n",
    "print(f\"Filtered data saved to {output_filtered_path}\")"
   ]
  },
  {
   "cell_type": "markdown",
   "id": "b7496aa5-b85b-4c3f-af4b-351c9642ed4d",
   "metadata": {},
   "source": [
    "Add the respective ref"
   ]
  },
  {
   "cell_type": "code",
   "execution_count": null,
   "id": "2c37a07e-1451-472c-a1af-7bdda2bf5f97",
   "metadata": {},
   "outputs": [],
   "source": [
    "import json\n",
    "import pandas as pd\n",
    "\n",
    "# File paths\n",
    "filtered_json_path = '/home/jh537/Clinical_Trial_Embending/Clinical_Trial_data/Retrievial/v2_/LONG_CTG_id_text.json'\n",
    "paired_csv_path = '/home/jh537/Clinical_Trial_Embending/Clinical_Trial_data/Retrievial/v2_/paired_CT_PM.csv'\n",
    "output_json_path = '/home/jh537/Clinical_Trial_Embending/Clinical_Trial_data/Retrievial/v2_/LONG_CTG_id_text_refs.json'\n",
    "\n",
    "# Load the paired CSV into a pandas DataFrame\n",
    "paired_df = pd.read_csv(paired_csv_path)\n",
    "\n",
    "# Create a dictionary mapping nCTid to PMid\n",
    "nctid_to_pmid = pd.Series(paired_df.PMid.values, index=paired_df.nCTid).to_dict()\n",
    "\n",
    "# Load the filtered JSON file\n",
    "with open(filtered_json_path, 'r') as json_file:\n",
    "    filtered_data = json.load(json_file)\n",
    "\n",
    "# Add 'ref' section to each JSON entry\n",
    "for entry in filtered_data:\n",
    "    nctid = entry.get('ntcId')\n",
    "    if nctid in nctid_to_pmid:\n",
    "        entry['ref'] = nctid_to_pmid[nctid]\n",
    "\n",
    "# Save the updated JSON back to a file\n",
    "with open(output_json_path, 'w') as json_file:\n",
    "    json.dump(filtered_data, json_file, indent=4)\n",
    "\n",
    "print(f\"Updated data with references saved to {output_json_path}\")\n"
   ]
  },
  {
   "cell_type": "markdown",
   "id": "2966d29c-28e1-482c-a391-790a1c4f1389",
   "metadata": {},
   "source": [
    "Make sure to be found in pubmed"
   ]
  },
  {
   "cell_type": "code",
   "execution_count": null,
   "id": "91b9ce22-957d-4db0-8609-77234bc90586",
   "metadata": {},
   "outputs": [],
   "source": [
    "import json\n",
    "\n",
    "# Load data from files\n",
    "with open('/home/jh537/Clinical_Trial_Embending/Clinical_Trial_data/Retrievial/v2_/LONG_CTG_id_text_refs.json', 'r') as ctg_file:\n",
    "    ctg_data = json.load(ctg_file)\n",
    "\n",
    "with open('/home/jh537/Clinical_Trial_Embending/Clinical_Trial_data/Retrievial/v2_/PM_id_text.json', 'r') as pm_file:\n",
    "    pm_data = json.load(pm_file)\n",
    "\n",
    "# Create a set of article IDs from PM_id_text.json\n",
    "article_ids = {entry['article_id'] for entry in pm_data}\n",
    "\n",
    "# Filter CTG_id_text_refs.json entries\n",
    "filtered_ctg_data = [entry for entry in ctg_data if str(entry['ref']) in article_ids]\n",
    "\n",
    "# Save the filtered data back to the file\n",
    "with open('/home/jh537/Clinical_Trial_Embending/Clinical_Trial_data/Retrievial/v2_/LONG_CTG_id_text_refs.json', 'w') as output_file:\n",
    "    json.dump(filtered_ctg_data, output_file, indent=4)\n",
    "\n",
    "print(f\"Filtered data saved to /home/jh537/Clinical_Trial_Embending/Clinical_Trial_data/Retrievial/v2_/CTG_id_text_refs.json\")\n"
   ]
  },
  {
   "cell_type": "markdown",
   "id": "cc294b9d-5f75-42e6-a2d0-580929ecb054",
   "metadata": {},
   "source": [
    "SLIP for train and test "
   ]
  },
  {
   "cell_type": "code",
   "execution_count": null,
   "id": "01478e3d-0d31-46b3-b936-14e28e9aee8f",
   "metadata": {},
   "outputs": [],
   "source": [
    "import json\n",
    "import os\n",
    "\n",
    "# Load the original data\n",
    "input_file_path = \"/home/jh537/Clinical_Trial_Embending/Clinical_Trial_data/Retrievial/v2_/LONG_CTG_id_text_refs.json\"  # Replace with your actual input file path\n",
    "with open(input_file_path, 'r') as input_file:\n",
    "    data = json.load(input_file)\n",
    "\n",
    "# Calculate split index for 80% training and 20% testing\n",
    "split_index = int(len(data) * 0.8)\n",
    "\n",
    "# Split the data into training and testing parts\n",
    "train_data = data[:split_index]\n",
    "test_data = data[split_index:]\n",
    "\n",
    "# Define output paths for train and test files\n",
    "output_folder = '/n/data1/hsph/biostat/celehs/lab/jh537/Retrivial_task/DATA/'\n",
    "os.makedirs(output_folder, exist_ok=True)  # Ensure the output folder exists\n",
    "train_file_path = os.path.join(output_folder, 'LONG_CTG_id_text_refs_train.json')\n",
    "test_file_path = os.path.join(output_folder, 'LONG_CTG_id_text_refs_test.json')\n",
    "\n",
    "# Write the training data\n",
    "with open(train_file_path, 'w') as train_file:\n",
    "    json.dump(train_data, train_file, indent=2)\n",
    "\n",
    "# Write the testing data\n",
    "with open(test_file_path, 'w') as test_file:\n",
    "    json.dump(test_data, test_file, indent=2)\n",
    "\n",
    "print(f\"Training and testing files have been successfully created:\\n{train_file_path}\\n{test_file_path}\")"
   ]
  },
  {
   "cell_type": "code",
   "execution_count": null,
   "id": "1ca0361e-898d-463b-92a1-d3fe89f1b2f3",
   "metadata": {
    "scrolled": true
   },
   "outputs": [],
   "source": [
    "##########################################################\n",
    "\n",
    "import json\n",
    "\n",
    "output_path = '/n/data1/hsph/biostat/celehs/lab/jh537/Retrivial_task/DATA/LONG_CTG_id_text_refs_test.json'\n",
    "\n",
    "with open(output_path, 'r') as json_file:\n",
    "    data = json.load(json_file)\n",
    "\n",
    "# Print the length of the file\n",
    "print(f\"Number of entries in the file: {len(data)}\")\n",
    "\n",
    "# Print the first 2 entries (head)\n",
    "print(data[:2])"
   ]
  }
 ],
 "metadata": {
  "kernelspec": {
   "display_name": "Python 3 (ipykernel)",
   "language": "python",
   "name": "python3"
  },
  "language_info": {
   "codemirror_mode": {
    "name": "ipython",
    "version": 3
   },
   "file_extension": ".py",
   "mimetype": "text/x-python",
   "name": "python",
   "nbconvert_exporter": "python",
   "pygments_lexer": "ipython3",
   "version": "3.12.5"
  }
 },
 "nbformat": 4,
 "nbformat_minor": 5
}
