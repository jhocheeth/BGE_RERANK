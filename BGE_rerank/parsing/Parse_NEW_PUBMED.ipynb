{
 "cells": [
  {
   "cell_type": "markdown",
   "id": "661ed8f8-3577-46e5-85c0-65ad41ce3f2d",
   "metadata": {},
   "source": [
    "Extrat text form Benchmark data"
   ]
  },
  {
   "cell_type": "code",
   "execution_count": null,
   "id": "fa78ee79-423c-4157-8e12-dfb97caa5c19",
   "metadata": {},
   "outputs": [],
   "source": []
  },
  {
   "cell_type": "markdown",
   "id": "1d79158e-720c-419e-a409-0e473a4840e8",
   "metadata": {},
   "source": [
    "Create id list from new pubmed "
   ]
  },
  {
   "cell_type": "code",
   "execution_count": null,
   "id": "0ac0e0ec-c0cb-444c-8c98-6aad148a01ce",
   "metadata": {},
   "outputs": [],
   "source": [
    "import json\n",
    "\n",
    "# Input file containing article objects with \"article_id\" and \"text\"\n",
    "input_file = '/home/jh537/Clinical_Trial_Embending/Clinical_Trial_data/Retrievial/v2_/NEW_PM_id_text.json'\n",
    "# Output file to store the list of article IDs\n",
    "output_file = '/home/jh537/Clinical_Trial_Embending/Clinical_Trial_data/Retrievial/v2_/NEW_PM_id_list.json'\n",
    "\n",
    "# Load the JSON data from the input file\n",
    "with open(input_file, 'r') as f:\n",
    "    data = json.load(f)\n",
    "\n",
    "# Initialize an empty list to store article IDs\n",
    "article_ids = []\n",
    "\n",
    "# Check if the data is a list of dictionaries or a single dictionary\n",
    "if isinstance(data, list):\n",
    "    # Extract \"article_id\" from each record if it exists\n",
    "    article_ids = [entry['article_id'] for entry in data if 'article_id' in entry]\n",
    "elif isinstance(data, dict):\n",
    "    # If the JSON is a single dictionary, add its \"article_id\" (if present) to the list\n",
    "    if 'article_id' in data:\n",
    "        article_ids = [data['article_id']]\n",
    "\n",
    "# Save the extracted article IDs to the output file as a JSON array\n",
    "with open(output_file, 'w') as f:\n",
    "    json.dump(article_ids, f, indent=4)\n",
    "\n",
    "print(\"List of article IDs extracted and saved successfully.\")\n"
   ]
  },
  {
   "cell_type": "markdown",
   "id": "486cd702-006f-4065-a02c-6bdc17b261ea",
   "metadata": {},
   "source": [
    "Create a mapping between PM id and their url links "
   ]
  },
  {
   "cell_type": "code",
   "execution_count": null,
   "id": "be106f3f-8a52-4f3c-b776-12ee5cb46d62",
   "metadata": {},
   "outputs": [],
   "source": [
    "import json\n",
    "\n",
    "# Load the list of PubMed IDs from a JSON file\n",
    "with open('/home/jh537/Clinical_Trial_Embending/Clinical_Trial_data/Retrievial/v2_/NEW_PM_id_list.json', 'r') as id_file:\n",
    "    pubmed_ids = json.load(id_file)\n",
    "\n",
    "# Create a list of dictionaries with PubMed IDs and their respective URL links\n",
    "pubmed_id_url_data = []\n",
    "for pm_id in pubmed_ids:\n",
    "    # Construct the URL for the PubMed article using the standard format\n",
    "    url = f\"https://pubmed.ncbi.nlm.nih.gov/{pm_id}/\"\n",
    "    pubmed_id_url_data.append({\n",
    "        \"pubmed_id\": pm_id,\n",
    "        \"url\": url\n",
    "    })\n",
    "\n",
    "# Save the resulting list to a JSON file\n",
    "with open('/home/jh537/Clinical_Trial_Embending/Clinical_Trial_data/Retrievial/v2_/NEW_PM_id_url.json', 'w') as out_file:\n",
    "    json.dump(pubmed_id_url_data, out_file, indent=4)\n",
    "\n",
    "print(\"File with PubMed IDs and URLs saved successfully.\")"
   ]
  },
  {
   "cell_type": "markdown",
   "id": "aec0056f-30e1-401a-9b65-a0e4ca4576dc",
   "metadata": {},
   "source": [
    "View JSON "
   ]
  },
  {
   "cell_type": "code",
   "execution_count": null,
   "id": "4eb27b05-dff6-48a0-a02f-c42b4defc664",
   "metadata": {},
   "outputs": [],
   "source": [
    "##########################################################\n",
    "\n",
    "import json\n",
    "\n",
    "output_path = '/home/jh537/Clinical_Trial_Embending/Clinical_Trial_data/Retrievial/v2_/NEW_PM_id_url.json'\n",
    "\n",
    "with open(output_path, 'r') as json_file:\n",
    "    data = json.load(json_file)\n",
    "\n",
    "# Print the length of the file\n",
    "print(f\"Number of entries in the file: {len(data)}\")\n",
    "\n",
    "# Print the first 2 entries (head)\n",
    "print(data[:5])"
   ]
  },
  {
   "cell_type": "code",
   "execution_count": null,
   "id": "3d10ba60-8b5a-49d8-a7c0-0d417bda5fac",
   "metadata": {},
   "outputs": [],
   "source": []
  }
 ],
 "metadata": {
  "kernelspec": {
   "display_name": "Python 3 (ipykernel)",
   "language": "python",
   "name": "python3"
  },
  "language_info": {
   "codemirror_mode": {
    "name": "ipython",
    "version": 3
   },
   "file_extension": ".py",
   "mimetype": "text/x-python",
   "name": "python",
   "nbconvert_exporter": "python",
   "pygments_lexer": "ipython3",
   "version": "3.12.5"
  }
 },
 "nbformat": 4,
 "nbformat_minor": 5
}
